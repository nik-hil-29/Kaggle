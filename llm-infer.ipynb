{
 "cells": [
  {
   "cell_type": "code",
   "execution_count": 1,
   "id": "e48a1223",
   "metadata": {
    "_cell_guid": "b1076dfc-b9ad-4769-8c92-a6c4dae69d19",
    "_uuid": "8f2839f25d086af736a60e9eeb907d3b93b6e0e5",
    "execution": {
     "iopub.execute_input": "2024-01-17T03:20:29.858669Z",
     "iopub.status.busy": "2024-01-17T03:20:29.857398Z",
     "iopub.status.idle": "2024-01-17T03:20:30.641354Z",
     "shell.execute_reply": "2024-01-17T03:20:30.639993Z"
    },
    "papermill": {
     "duration": 0.793779,
     "end_time": "2024-01-17T03:20:30.643980",
     "exception": false,
     "start_time": "2024-01-17T03:20:29.850201",
     "status": "completed"
    },
    "tags": []
   },
   "outputs": [
    {
     "name": "stdout",
     "output_type": "stream",
     "text": [
      "/kaggle/input/modelllm/llm_model.h5\n",
      "/kaggle/input/llm-detect-ai-generated-text/sample_submission.csv\n",
      "/kaggle/input/llm-detect-ai-generated-text/train_prompts.csv\n",
      "/kaggle/input/llm-detect-ai-generated-text/test_essays.csv\n",
      "/kaggle/input/llm-detect-ai-generated-text/train_essays.csv\n",
      "/kaggle/input/ai-generated-vs-human-generated/valid.csv\n",
      "/kaggle/input/ai-generated-vs-human-generated/train.csv\n",
      "/kaggle/input/ai-generated-vs-human-generated/merge.csv\n"
     ]
    }
   ],
   "source": [
    "# This Python 3 environment comes with many helpful analytics libraries installed\n",
    "# It is defined by the kaggle/python Docker image: https://github.com/kaggle/docker-python\n",
    "# For example, here's several helpful packages to load\n",
    "\n",
    "import numpy as np # linear algebra\n",
    "import pandas as pd # data processing, CSV file I/O (e.g. pd.read_csv)\n",
    "\n",
    "# Input data files are available in the read-only \"../input/\" directory\n",
    "# For example, running this (by clicking run or pressing Shift+Enter) will list all files under the input directory\n",
    "\n",
    "import os\n",
    "for dirname, _, filenames in os.walk('/kaggle/input'):\n",
    "    for filename in filenames:\n",
    "        print(os.path.join(dirname, filename))\n",
    "\n",
    "# You can write up to 20GB to the current directory (/kaggle/working/) that gets preserved as output when you create a version using \"Save & Run All\" \n",
    "# You can also write temporary files to /kaggle/temp/, but they won't be saved outside of the current session"
   ]
  },
  {
   "cell_type": "code",
   "execution_count": 2,
   "id": "ad7400b1",
   "metadata": {
    "execution": {
     "iopub.execute_input": "2024-01-17T03:20:30.656186Z",
     "iopub.status.busy": "2024-01-17T03:20:30.655694Z",
     "iopub.status.idle": "2024-01-17T03:20:45.742450Z",
     "shell.execute_reply": "2024-01-17T03:20:45.741214Z"
    },
    "papermill": {
     "duration": 15.09616,
     "end_time": "2024-01-17T03:20:45.745588",
     "exception": false,
     "start_time": "2024-01-17T03:20:30.649428",
     "status": "completed"
    },
    "tags": []
   },
   "outputs": [],
   "source": [
    "import os\n",
    "import random\n",
    "import numpy as np\n",
    "import tensorflow as tf\n",
    "import pandas as pd\n",
    "from sklearn.model_selection import train_test_split\n",
    "import re\n",
    "import string\n",
    "import tensorflow_text as tf_text"
   ]
  },
  {
   "cell_type": "code",
   "execution_count": 3,
   "id": "e24c803f",
   "metadata": {
    "execution": {
     "iopub.execute_input": "2024-01-17T03:20:45.758447Z",
     "iopub.status.busy": "2024-01-17T03:20:45.757173Z",
     "iopub.status.idle": "2024-01-17T03:20:53.761428Z",
     "shell.execute_reply": "2024-01-17T03:20:53.760088Z"
    },
    "papermill": {
     "duration": 8.014239,
     "end_time": "2024-01-17T03:20:53.765006",
     "exception": false,
     "start_time": "2024-01-17T03:20:45.750767",
     "status": "completed"
    },
    "tags": []
   },
   "outputs": [],
   "source": [
    "#train = pd.read_csv('/kaggle/input/llm-detect-ai-generated-text/train_essays.csv')\n",
    "extra_train = pd.read_csv(\"/kaggle/input/ai-generated-vs-human-generated/merge.csv\")\n",
    "#extra_train_new = pd.read_csv(\"/kaggle/input/daigt-proper-train-dataset/train_drcat_01.csv\")\n",
    "test = pd.read_csv('/kaggle/input/llm-detect-ai-generated-text/test_essays.csv')\n",
    "#train_prompts = pd.read_csv('/kaggle/input/llm-detect-ai-generated-text/train_prompts.csv')"
   ]
  },
  {
   "cell_type": "code",
   "execution_count": 4,
   "id": "4694b5bf",
   "metadata": {
    "execution": {
     "iopub.execute_input": "2024-01-17T03:20:53.780801Z",
     "iopub.status.busy": "2024-01-17T03:20:53.780228Z",
     "iopub.status.idle": "2024-01-17T03:20:53.825027Z",
     "shell.execute_reply": "2024-01-17T03:20:53.823719Z"
    },
    "papermill": {
     "duration": 0.056916,
     "end_time": "2024-01-17T03:20:53.828000",
     "exception": false,
     "start_time": "2024-01-17T03:20:53.771084",
     "status": "completed"
    },
    "tags": []
   },
   "outputs": [
    {
     "data": {
      "text/html": [
       "<div>\n",
       "<style scoped>\n",
       "    .dataframe tbody tr th:only-of-type {\n",
       "        vertical-align: middle;\n",
       "    }\n",
       "\n",
       "    .dataframe tbody tr th {\n",
       "        vertical-align: top;\n",
       "    }\n",
       "\n",
       "    .dataframe thead th {\n",
       "        text-align: right;\n",
       "    }\n",
       "</style>\n",
       "<table border=\"1\" class=\"dataframe\">\n",
       "  <thead>\n",
       "    <tr style=\"text-align: right;\">\n",
       "      <th></th>\n",
       "      <th>Unnamed: 0</th>\n",
       "      <th>prompt_name</th>\n",
       "      <th>text</th>\n",
       "      <th>generated</th>\n",
       "      <th>source</th>\n",
       "      <th>file</th>\n",
       "    </tr>\n",
       "  </thead>\n",
       "  <tbody>\n",
       "    <tr>\n",
       "      <th>0</th>\n",
       "      <td>0</td>\n",
       "      <td>Phones and driving</td>\n",
       "      <td>Phones\\n\\nModern humans today are always on th...</td>\n",
       "      <td>0</td>\n",
       "      <td>persuade_corpus</td>\n",
       "      <td>daigt-v2-train-dataset/train_v2_drcat_02.csv</td>\n",
       "    </tr>\n",
       "    <tr>\n",
       "      <th>1</th>\n",
       "      <td>1</td>\n",
       "      <td>Phones and driving</td>\n",
       "      <td>This essay will explain if drivers should or s...</td>\n",
       "      <td>0</td>\n",
       "      <td>persuade_corpus</td>\n",
       "      <td>daigt-v2-train-dataset/train_v2_drcat_02.csv</td>\n",
       "    </tr>\n",
       "    <tr>\n",
       "      <th>2</th>\n",
       "      <td>2</td>\n",
       "      <td>Phones and driving</td>\n",
       "      <td>Driving while the use of cellular devices\\n\\nT...</td>\n",
       "      <td>0</td>\n",
       "      <td>persuade_corpus</td>\n",
       "      <td>daigt-v2-train-dataset/train_v2_drcat_02.csv</td>\n",
       "    </tr>\n",
       "    <tr>\n",
       "      <th>3</th>\n",
       "      <td>3</td>\n",
       "      <td>Phones and driving</td>\n",
       "      <td>Phones &amp; Driving\\n\\nDrivers should not be able...</td>\n",
       "      <td>0</td>\n",
       "      <td>persuade_corpus</td>\n",
       "      <td>daigt-v2-train-dataset/train_v2_drcat_02.csv</td>\n",
       "    </tr>\n",
       "    <tr>\n",
       "      <th>4</th>\n",
       "      <td>4</td>\n",
       "      <td>Phones and driving</td>\n",
       "      <td>Cell Phone Operation While Driving\\n\\nThe abil...</td>\n",
       "      <td>0</td>\n",
       "      <td>persuade_corpus</td>\n",
       "      <td>daigt-v2-train-dataset/train_v2_drcat_02.csv</td>\n",
       "    </tr>\n",
       "    <tr>\n",
       "      <th>...</th>\n",
       "      <td>...</td>\n",
       "      <td>...</td>\n",
       "      <td>...</td>\n",
       "      <td>...</td>\n",
       "      <td>...</td>\n",
       "      <td>...</td>\n",
       "    </tr>\n",
       "    <tr>\n",
       "      <th>190339</th>\n",
       "      <td>190339</td>\n",
       "      <td>Does the electoral college work?</td>\n",
       "      <td>The electoral college iyitem ii a central aip...</td>\n",
       "      <td>1</td>\n",
       "      <td>NaN</td>\n",
       "      <td>llm-mistral-7b-instruct-texts/Mistral7B_CME_v7...</td>\n",
       "    </tr>\n",
       "    <tr>\n",
       "      <th>190340</th>\n",
       "      <td>190340</td>\n",
       "      <td>Does the electoral college work?</td>\n",
       "      <td>The electoral college iyitem ii a method uied...</td>\n",
       "      <td>1</td>\n",
       "      <td>NaN</td>\n",
       "      <td>llm-mistral-7b-instruct-texts/Mistral7B_CME_v7...</td>\n",
       "    </tr>\n",
       "    <tr>\n",
       "      <th>190341</th>\n",
       "      <td>190341</td>\n",
       "      <td>Does the electoral college work?</td>\n",
       "      <td>The elecioral college ii a iyiiem uied in ihe...</td>\n",
       "      <td>1</td>\n",
       "      <td>NaN</td>\n",
       "      <td>llm-mistral-7b-instruct-texts/Mistral7B_CME_v7...</td>\n",
       "    </tr>\n",
       "    <tr>\n",
       "      <th>190342</th>\n",
       "      <td>190342</td>\n",
       "      <td>Does the electoral college work?</td>\n",
       "      <td>The electoral college is a group of people ap...</td>\n",
       "      <td>1</td>\n",
       "      <td>NaN</td>\n",
       "      <td>llm-mistral-7b-instruct-texts/Mistral7B_CME_v7...</td>\n",
       "    </tr>\n",
       "    <tr>\n",
       "      <th>190343</th>\n",
       "      <td>190343</td>\n",
       "      <td>Does the electoral college work?</td>\n",
       "      <td>Title: Electoral College Reform: Ii It Neceii...</td>\n",
       "      <td>1</td>\n",
       "      <td>NaN</td>\n",
       "      <td>llm-mistral-7b-instruct-texts/Mistral7B_CME_v7...</td>\n",
       "    </tr>\n",
       "  </tbody>\n",
       "</table>\n",
       "<p>190344 rows × 6 columns</p>\n",
       "</div>"
      ],
      "text/plain": [
       "        Unnamed: 0                       prompt_name  \\\n",
       "0                0                Phones and driving   \n",
       "1                1                Phones and driving   \n",
       "2                2                Phones and driving   \n",
       "3                3                Phones and driving   \n",
       "4                4                Phones and driving   \n",
       "...            ...                               ...   \n",
       "190339      190339  Does the electoral college work?   \n",
       "190340      190340  Does the electoral college work?   \n",
       "190341      190341  Does the electoral college work?   \n",
       "190342      190342  Does the electoral college work?   \n",
       "190343      190343  Does the electoral college work?   \n",
       "\n",
       "                                                     text  generated  \\\n",
       "0       Phones\\n\\nModern humans today are always on th...          0   \n",
       "1       This essay will explain if drivers should or s...          0   \n",
       "2       Driving while the use of cellular devices\\n\\nT...          0   \n",
       "3       Phones & Driving\\n\\nDrivers should not be able...          0   \n",
       "4       Cell Phone Operation While Driving\\n\\nThe abil...          0   \n",
       "...                                                   ...        ...   \n",
       "190339   The electoral college iyitem ii a central aip...          1   \n",
       "190340   The electoral college iyitem ii a method uied...          1   \n",
       "190341   The elecioral college ii a iyiiem uied in ihe...          1   \n",
       "190342   The electoral college is a group of people ap...          1   \n",
       "190343   Title: Electoral College Reform: Ii It Neceii...          1   \n",
       "\n",
       "                 source                                               file  \n",
       "0       persuade_corpus       daigt-v2-train-dataset/train_v2_drcat_02.csv  \n",
       "1       persuade_corpus       daigt-v2-train-dataset/train_v2_drcat_02.csv  \n",
       "2       persuade_corpus       daigt-v2-train-dataset/train_v2_drcat_02.csv  \n",
       "3       persuade_corpus       daigt-v2-train-dataset/train_v2_drcat_02.csv  \n",
       "4       persuade_corpus       daigt-v2-train-dataset/train_v2_drcat_02.csv  \n",
       "...                 ...                                                ...  \n",
       "190339              NaN  llm-mistral-7b-instruct-texts/Mistral7B_CME_v7...  \n",
       "190340              NaN  llm-mistral-7b-instruct-texts/Mistral7B_CME_v7...  \n",
       "190341              NaN  llm-mistral-7b-instruct-texts/Mistral7B_CME_v7...  \n",
       "190342              NaN  llm-mistral-7b-instruct-texts/Mistral7B_CME_v7...  \n",
       "190343              NaN  llm-mistral-7b-instruct-texts/Mistral7B_CME_v7...  \n",
       "\n",
       "[190344 rows x 6 columns]"
      ]
     },
     "execution_count": 4,
     "metadata": {},
     "output_type": "execute_result"
    }
   ],
   "source": [
    "#train_final = pd.concat([extra_train_f, train.drop(columns=['prompt_id', 'id'], axis=0)], axis=0).reset_index(drop=True).drop_duplicates()\n",
    "train_final = extra_train\n",
    "train_final"
   ]
  },
  {
   "cell_type": "code",
   "execution_count": 5,
   "id": "f0b6ee76",
   "metadata": {
    "execution": {
     "iopub.execute_input": "2024-01-17T03:20:53.844326Z",
     "iopub.status.busy": "2024-01-17T03:20:53.842954Z",
     "iopub.status.idle": "2024-01-17T03:20:54.482491Z",
     "shell.execute_reply": "2024-01-17T03:20:54.481505Z"
    },
    "papermill": {
     "duration": 0.651099,
     "end_time": "2024-01-17T03:20:54.485183",
     "exception": false,
     "start_time": "2024-01-17T03:20:53.834084",
     "status": "completed"
    },
    "tags": []
   },
   "outputs": [],
   "source": [
    "train_df, val_df = train_test_split(train_final, test_size=0.3, random_state=222)\n",
    "\n",
    "batch_size = 32\n",
    "\n",
    "raw_train_ds = tf.data.Dataset.from_tensor_slices(\n",
    "    (train_df['text'].values, train_df['generated'].values)\n",
    ").batch(batch_size)\n",
    "\n",
    "raw_val_ds = tf.data.Dataset.from_tensor_slices(\n",
    "    (val_df['text'].values, val_df['generated'].values)\n",
    ").batch(batch_size)"
   ]
  },
  {
   "cell_type": "code",
   "execution_count": 6,
   "id": "97abfbc7",
   "metadata": {
    "execution": {
     "iopub.execute_input": "2024-01-17T03:20:54.497422Z",
     "iopub.status.busy": "2024-01-17T03:20:54.497056Z",
     "iopub.status.idle": "2024-01-17T03:27:28.847283Z",
     "shell.execute_reply": "2024-01-17T03:27:28.846336Z"
    },
    "papermill": {
     "duration": 394.359486,
     "end_time": "2024-01-17T03:27:28.849959",
     "exception": false,
     "start_time": "2024-01-17T03:20:54.490473",
     "status": "completed"
    },
    "tags": []
   },
   "outputs": [],
   "source": [
    "max_features = 75000\n",
    "embedding_dim = 64\n",
    "sequence_length = 512\n",
    "\n",
    "def tf_lower_and_split_punct(text):\n",
    "    text = tf_text.normalize_utf8(text, 'NFKD')\n",
    "    text = tf.strings.lower(text)\n",
    "    text = tf.strings.regex_replace(text, '[^ a-z.?!,¿]', '')\n",
    "    text = tf.strings.regex_replace(text, '[.?!,¿]', r' \\0 ')\n",
    "    text = tf.strings.strip(text)\n",
    "    text = tf.strings.join(['[START]', text, '[END]'], separator=' ')\n",
    "    return text\n",
    "\n",
    "\n",
    "# Text vectorization layer\n",
    "vectorize_layer = tf.keras.layers.TextVectorization(\n",
    "    standardize=tf_lower_and_split_punct,\n",
    "    max_tokens=max_features,\n",
    "    ngrams = (3,5),\n",
    "    output_mode=\"int\",\n",
    "    output_sequence_length=sequence_length,\n",
    "    pad_to_max_tokens=True\n",
    ")\n",
    "\n",
    "text_ds = raw_train_ds.map(lambda x, y: x)\n",
    "vectorize_layer.adapt(text_ds)\n",
    "\n",
    "def vectorize_text(text, label):\n",
    "    text = tf.expand_dims(text, -1)\n",
    "    return vectorize_layer(text), label\n",
    "\n",
    "train_ds = raw_train_ds.map(vectorize_text)\n",
    "val_ds = raw_val_ds.map(vectorize_text)"
   ]
  },
  {
   "cell_type": "code",
   "execution_count": 7,
   "id": "31442b7c",
   "metadata": {
    "execution": {
     "iopub.execute_input": "2024-01-17T03:27:28.862962Z",
     "iopub.status.busy": "2024-01-17T03:27:28.862178Z",
     "iopub.status.idle": "2024-01-17T03:27:28.875743Z",
     "shell.execute_reply": "2024-01-17T03:27:28.874572Z"
    },
    "papermill": {
     "duration": 0.022695,
     "end_time": "2024-01-17T03:27:28.878323",
     "exception": false,
     "start_time": "2024-01-17T03:27:28.855628",
     "status": "completed"
    },
    "tags": []
   },
   "outputs": [],
   "source": [
    "from tensorflow.keras.layers import TextVectorization, Embedding, Bidirectional, LSTM, Conv1D, GlobalMaxPooling1D, Dense, Dropout\n",
    "from tensorflow.keras import Model, Input\n",
    "\n",
    "class TransformerBlock(tf.keras.layers.Layer):\n",
    "    def __init__(self, embed_dim, num_heads, ff_dim, rate=0.1):\n",
    "        super(TransformerBlock, self).__init__()\n",
    "        self.att = tf.keras.layers.MultiHeadAttention(num_heads=num_heads, key_dim=embed_dim)\n",
    "        self.ffn = tf.keras.Sequential(\n",
    "            [tf.keras.layers.Dense(ff_dim, activation=\"relu\"), tf.keras.layers.Dense(embed_dim),]\n",
    "        )\n",
    "        self.layernorm1 = tf.keras.layers.LayerNormalization(epsilon=1e-6)\n",
    "        self.layernorm2 = tf.keras.layers.LayerNormalization(epsilon=1e-6)\n",
    "        self.dropout1 = tf.keras.layers.Dropout(rate)\n",
    "        self.dropout2 = tf.keras.layers.Dropout(rate)\n",
    "\n",
    "    def call(self, inputs, training):\n",
    "        attn_output = self.att(inputs, inputs)\n",
    "        attn_output = self.dropout1(attn_output, training=training)\n",
    "        out1 = self.layernorm1(inputs + attn_output)\n",
    "        ffn_output = self.ffn(out1)\n",
    "        ffn_output = self.dropout2(ffn_output, training=training)\n",
    "        return self.layernorm2(out1 + ffn_output)"
   ]
  },
  {
   "cell_type": "code",
   "execution_count": 8,
   "id": "467c0313",
   "metadata": {
    "execution": {
     "iopub.execute_input": "2024-01-17T03:27:28.890760Z",
     "iopub.status.busy": "2024-01-17T03:27:28.890353Z",
     "iopub.status.idle": "2024-01-17T03:27:29.963411Z",
     "shell.execute_reply": "2024-01-17T03:27:29.962230Z"
    },
    "papermill": {
     "duration": 1.082059,
     "end_time": "2024-01-17T03:27:29.965836",
     "exception": false,
     "start_time": "2024-01-17T03:27:28.883777",
     "status": "completed"
    },
    "tags": []
   },
   "outputs": [
    {
     "name": "stdout",
     "output_type": "stream",
     "text": [
      "Model: \"model\"\n",
      "_________________________________________________________________\n",
      " Layer (type)                Output Shape              Param #   \n",
      "=================================================================\n",
      " input_1 (InputLayer)        [(None, 512)]             0         \n",
      "                                                                 \n",
      " embedding (Embedding)       (None, 512, 64)           4800000   \n",
      "                                                                 \n",
      " bidirectional (Bidirection  (None, 512, 64)           24832     \n",
      " al)                                                             \n",
      "                                                                 \n",
      " transformer_block (Transfo  (None, 512, 64)           37664     \n",
      " rmerBlock)                                                      \n",
      "                                                                 \n",
      " conv1d (Conv1D)             (None, 169, 128)          57472     \n",
      "                                                                 \n",
      " global_max_pooling1d (Glob  (None, 128)               0         \n",
      " alMaxPooling1D)                                                 \n",
      "                                                                 \n",
      " dense_2 (Dense)             (None, 128)               16512     \n",
      "                                                                 \n",
      " dropout_2 (Dropout)         (None, 128)               0         \n",
      "                                                                 \n",
      " predictions (Dense)         (None, 1)                 129       \n",
      "                                                                 \n",
      "=================================================================\n",
      "Total params: 4936609 (18.83 MB)\n",
      "Trainable params: 4936609 (18.83 MB)\n",
      "Non-trainable params: 0 (0.00 Byte)\n",
      "_________________________________________________________________\n"
     ]
    }
   ],
   "source": [
    "inputs = Input(shape=(sequence_length,), dtype=\"int64\")\n",
    "x = Embedding(max_features, embedding_dim)(inputs)\n",
    "x = Bidirectional(LSTM(32, return_sequences=True))(x)\n",
    "transformer_block = TransformerBlock(embedding_dim, 2, 32)\n",
    "x = transformer_block(x)\n",
    "x = Conv1D(128, 7, padding=\"valid\", activation=\"relu\", strides=3)(x)\n",
    "x = GlobalMaxPooling1D()(x)\n",
    "x = Dense(128, activation=\"relu\")(x)\n",
    "x = Dropout(0.5)(x)\n",
    "predictions = Dense(1, activation=\"sigmoid\", name=\"predictions\")(x)\n",
    "\n",
    "model = Model(inputs=inputs, outputs=predictions)\n",
    "model.summary()"
   ]
  },
  {
   "cell_type": "code",
   "execution_count": 9,
   "id": "975caeab",
   "metadata": {
    "execution": {
     "iopub.execute_input": "2024-01-17T03:27:29.984577Z",
     "iopub.status.busy": "2024-01-17T03:27:29.984128Z",
     "iopub.status.idle": "2024-01-17T03:27:31.943232Z",
     "shell.execute_reply": "2024-01-17T03:27:31.942188Z"
    },
    "papermill": {
     "duration": 1.971722,
     "end_time": "2024-01-17T03:27:31.946139",
     "exception": false,
     "start_time": "2024-01-17T03:27:29.974417",
     "status": "completed"
    },
    "tags": []
   },
   "outputs": [],
   "source": [
    "loaded_model = tf.keras.models.load_model(\"/kaggle/input/modelllm/llm_model.h5\", custom_objects={'TransformerBlock': TransformerBlock})"
   ]
  },
  {
   "cell_type": "code",
   "execution_count": 10,
   "id": "91fa066a",
   "metadata": {
    "execution": {
     "iopub.execute_input": "2024-01-17T03:27:31.964890Z",
     "iopub.status.busy": "2024-01-17T03:27:31.963998Z",
     "iopub.status.idle": "2024-01-17T03:27:41.561940Z",
     "shell.execute_reply": "2024-01-17T03:27:41.560629Z"
    },
    "papermill": {
     "duration": 9.61008,
     "end_time": "2024-01-17T03:27:41.564404",
     "exception": false,
     "start_time": "2024-01-17T03:27:31.954324",
     "status": "completed"
    },
    "tags": []
   },
   "outputs": [
    {
     "name": "stdout",
     "output_type": "stream",
     "text": [
      "1/1 [==============================] - 6s 6s/step\n",
      "           text  generated\n",
      "0  Aaa bbb ccc.   0.517842\n",
      "1  Bbb ccc ddd.   0.517842\n",
      "2  CCC ddd eee.   0.517842\n"
     ]
    }
   ],
   "source": [
    "test_text = test['text'].values\n",
    "vectorized_test_text = vectorize_layer(test_text)\n",
    "predictions = model.predict(vectorized_test_text)\n",
    "\n",
    "test['generated'] = predictions\n",
    "print(test[['text', 'generated']])"
   ]
  },
  {
   "cell_type": "code",
   "execution_count": 11,
   "id": "2d0426b9",
   "metadata": {
    "execution": {
     "iopub.execute_input": "2024-01-17T03:27:41.584070Z",
     "iopub.status.busy": "2024-01-17T03:27:41.582873Z",
     "iopub.status.idle": "2024-01-17T03:27:41.593268Z",
     "shell.execute_reply": "2024-01-17T03:27:41.592453Z"
    },
    "papermill": {
     "duration": 0.022753,
     "end_time": "2024-01-17T03:27:41.595745",
     "exception": false,
     "start_time": "2024-01-17T03:27:41.572992",
     "status": "completed"
    },
    "tags": []
   },
   "outputs": [],
   "source": [
    "test[['id', 'generated']].set_index('id').to_csv(\"submission.csv\")"
   ]
  }
 ],
 "metadata": {
  "kaggle": {
   "accelerator": "none",
   "dataSources": [
    {
     "databundleVersionId": 6888007,
     "sourceId": 61542,
     "sourceType": "competition"
    },
    {
     "datasetId": 4314732,
     "sourceId": 7416971,
     "sourceType": "datasetVersion"
    },
    {
     "datasetId": 4314961,
     "sourceId": 7417317,
     "sourceType": "datasetVersion"
    }
   ],
   "dockerImageVersionId": 30635,
   "isGpuEnabled": false,
   "isInternetEnabled": false,
   "language": "python",
   "sourceType": "notebook"
  },
  "kernelspec": {
   "display_name": "Python 3",
   "language": "python",
   "name": "python3"
  },
  "language_info": {
   "codemirror_mode": {
    "name": "ipython",
    "version": 3
   },
   "file_extension": ".py",
   "mimetype": "text/x-python",
   "name": "python",
   "nbconvert_exporter": "python",
   "pygments_lexer": "ipython3",
   "version": "3.10.12"
  },
  "papermill": {
   "default_parameters": {},
   "duration": 439.596491,
   "end_time": "2024-01-17T03:27:44.852509",
   "environment_variables": {},
   "exception": null,
   "input_path": "__notebook__.ipynb",
   "output_path": "__notebook__.ipynb",
   "parameters": {},
   "start_time": "2024-01-17T03:20:25.256018",
   "version": "2.4.0"
  }
 },
 "nbformat": 4,
 "nbformat_minor": 5
}
